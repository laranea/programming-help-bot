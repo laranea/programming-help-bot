{
 "cells": [
  {
   "cell_type": "code",
   "execution_count": 1,
   "metadata": {},
   "outputs": [
    {
     "name": "stderr",
     "output_type": "stream",
     "text": [
      "[nltk_data] Downloading package stopwords to\n",
      "[nltk_data]     /Users/lincoln/nltk_data...\n",
      "[nltk_data]   Package stopwords is already up-to-date!\n"
     ]
    }
   ],
   "source": [
    "import os\n",
    "from sklearn.metrics.pairwise import pairwise_distances_argmin\n",
    "import numpy as np\n",
    "\n",
    "from chatterbot import ChatBot\n",
    "from chatterbot.trainers import ChatterBotCorpusTrainer\n",
    "\n",
    "from utils import text_prepare, load_embeddings, question_to_vec, unpickle_file\n",
    "\n",
    "\n",
    "class ThreadRanker:\n",
    "    def __init__(self):\n",
    "        self.word_embeddings, self.embeddings_dim = load_embeddings('./starspace_embeddings/data/stackoverflow_duplicate.tsv')\n",
    "        self.thread_embeddings_folder = './data/thread_embeddings_by_tag'\n",
    "\n",
    "    def __load_embeddings_by_tag(self, tag_name):\n",
    "        embeddings_path = os.path.join(self.thread_embeddings_folder, tag_name + \".pkl\")\n",
    "        thread_ids, thread_embeddings = unpickle_file(embeddings_path)\n",
    "        return thread_ids, thread_embeddings\n",
    "\n",
    "    def get_best_thread(self, question, tag_name):\n",
    "        \"\"\" Returns id of the most similar thread for the question.\n",
    "            The search is performed across the threads with a given tag.\n",
    "        \"\"\"\n",
    "        thread_ids, thread_embeddings = self.__load_embeddings_by_tag(tag_name)\n",
    "        \n",
    "        question_vec = question_to_vec(question, self.word_embeddings, self.embeddings_dim)\n",
    "        best_thread = pairwise_distances_argmin(np.array([question_vec]), thread_embeddings, metric='cosine')\n",
    "        \n",
    "        return thread_ids[best_thread]\n",
    "\n",
    "\n",
    "class DialogueManager:\n",
    "    def __init__(self):\n",
    "        print(\"Loading resources...\")\n",
    "\n",
    "        # Intent recognition:\n",
    "        self.intent_recognizer = unpickle_file('./model_artifacts/intent_recognizer.pkl')\n",
    "        self.tfidf_vectorizer = unpickle_file('./model_artifacts/tfidf_vectorizer.pkl')\n",
    "\n",
    "        self.ANSWER_TEMPLATE = 'I think its about %s\\nThis thread might help you: https://stackoverflow.com/questions/%s'\n",
    "\n",
    "        # Goal-oriented part:\n",
    "        self.tag_classifier = unpickle_file('./model_artifacts/tag_classifier.pkl')\n",
    "        self.thread_ranker = ThreadRanker()\n",
    "\n",
    "    def create_chitchat_bot(self):\n",
    "        \"\"\"Initializes self.chitchat_bot with some conversational model.\"\"\"\n",
    "\n",
    "        self.chatbot = ChatBot('Scott')\n",
    "\n",
    "        trainer = ChatterBotCorpusTrainer(self.chatbot)\n",
    "        trainer.train(\"chatterbot.corpus.english\")\n",
    "       \n",
    "    def generate_answer(self, question):\n",
    "        \"\"\"Combines stackoverflow and chitchat parts using intent recognition.\"\"\"\n",
    "        \n",
    "        prepared_question = text_prepare(question) \n",
    "        features = self.tfidf_vectorizer.transform(prepared_question) \n",
    "        intent = self.intent_recognizer.predict(features) \n",
    "\n",
    "        # Chit-chat part:   \n",
    "        if intent == 'dialogue':\n",
    "            # Pass question to chitchat_bot to generate a response.       \n",
    "            response = self.chatbot.get_response(question) \n",
    "            return response\n",
    "        \n",
    "        # Goal-oriented part:\n",
    "        else:        \n",
    "            # Pass features to tag_classifier to get predictions.\n",
    "            tag = self.tag_classifier(features)\n",
    "            \n",
    "            # Pass prepared_question to thread_ranker to get predictions.\n",
    "            thread_id = self.thread_ranker.get_best_thread(prepared_question, tag)\n",
    "           \n",
    "            return self.ANSWER_TEMPLATE % (tag, thread_id)\n",
    "\n"
   ]
  },
  {
   "cell_type": "code",
   "execution_count": null,
   "metadata": {},
   "outputs": [],
   "source": []
  }
 ],
 "metadata": {
  "kernelspec": {
   "display_name": "Python 3",
   "language": "python",
   "name": "python3"
  },
  "language_info": {
   "codemirror_mode": {
    "name": "ipython",
    "version": 3
   },
   "file_extension": ".py",
   "mimetype": "text/x-python",
   "name": "python",
   "nbconvert_exporter": "python",
   "pygments_lexer": "ipython3",
   "version": "3.7.3"
  }
 },
 "nbformat": 4,
 "nbformat_minor": 2
}
